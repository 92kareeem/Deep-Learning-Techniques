{
 "cells": [
  {
   "cell_type": "code",
   "execution_count": 3,
   "id": "ff2eb595-7bc9-4c5a-b49c-2f0b5b3c415c",
   "metadata": {},
   "outputs": [],
   "source": [
    "import tensorflow as tf\n",
    "from tensorflow.keras import layers, models\n",
    "from sklearn.model_selection import train_test_split"
   ]
  },
  {
   "cell_type": "code",
   "execution_count": 4,
   "id": "471d1f91-3437-4224-a085-9db4e9df4333",
   "metadata": {},
   "outputs": [],
   "source": [
    "# Load the MNIST dataset\n",
    "(train_images, train_labels),(test_images, test_labels) = tf.keras.datasets.mnist.load_data()"
   ]
  },
  {
   "cell_type": "code",
   "execution_count": 5,
   "id": "a9953ff6-2376-4cc1-8bf1-9dab55c60316",
   "metadata": {},
   "outputs": [],
   "source": [
    "#Preprocess the data\n",
    "train_images=train_images/255.0 \n",
    "test_images=test_images/255.0"
   ]
  },
  {
   "cell_type": "code",
   "execution_count": 7,
   "id": "793f1dd8-b8ce-4d99-b2cf-5f6b93fccca4",
   "metadata": {},
   "outputs": [],
   "source": [
    "#Add a channel dimension to the images \n",
    "train_images = train_images[..., tf.newaxis] \n",
    "test_images = test_images[..., tf.newaxis]"
   ]
  },
  {
   "cell_type": "code",
   "execution_count": 9,
   "id": "380026ef-9467-4910-9ceb-24391b28443e",
   "metadata": {},
   "outputs": [],
   "source": [
    "# Split the training set into training and validation sets\n",
    "train_images, val_images, train_labels, val_labels=train_test_split(train_images, train_labels, test_size=0.2, random_state=42)"
   ]
  },
  {
   "cell_type": "code",
   "execution_count": 11,
   "id": "a8d3975c-51c4-4cda-9f1f-591afaf3fe75",
   "metadata": {},
   "outputs": [],
   "source": [
    "#Parameters\n",
    "batch_size = 32\n",
    "num_classes = 10 #There are 10 classes in the MNIST dataset\n",
    "num_epochs = 1\n",
    "image_height, image_width= 28, 28"
   ]
  },
  {
   "cell_type": "code",
   "execution_count": 13,
   "id": "2560527f-d32b-4cf5-92bc-e053ba798e4a",
   "metadata": {},
   "outputs": [
    {
     "name": "stderr",
     "output_type": "stream",
     "text": [
      "C:\\Users\\Syed Abdul Kareem\\AppData\\Roaming\\Python\\Python312\\site-packages\\keras\\src\\layers\\convolutional\\base_conv.py:107: UserWarning: Do not pass an `input_shape`/`input_dim` argument to a layer. When using Sequential models, prefer using an `Input(shape)` object as the first layer in the model instead.\n",
      "  super().__init__(activity_regularizer=activity_regularizer, **kwargs)\n"
     ]
    }
   ],
   "source": [
    "#Create the CNN model\n",
    "model = models.Sequential([\n",
    "\n",
    "        layers.Conv2D(32, (3, 3), activation='relu', input_shape=(image_height, image_width, 1)),\n",
    "        layers.MaxPooling2D((2, 2)),\n",
    "        layers.Conv2D(64, (3, 3), activation='relu'),\n",
    "        layers.MaxPooling2D((2, 2)),\n",
    "        layers.Conv2D(128, (3, 3), activation='relu'),\n",
    "        layers.MaxPooling2D((2, 2)),\n",
    "        layers.Flatten(),\n",
    "        layers.Dense(64, activation='relu'),\n",
    "        layers.Dense(num_classes, activation='softmax')\n",
    "])"
   ]
  },
  {
   "cell_type": "code",
   "execution_count": 15,
   "id": "39bed6d4-75c5-4179-81e4-9588b918d44c",
   "metadata": {},
   "outputs": [],
   "source": [
    "#Compile the model\n",
    "model.compile(optimizer='adam',loss='sparse_categorical_crossentropy',metrics=['accuracy'])"
   ]
  },
  {
   "cell_type": "code",
   "execution_count": 17,
   "id": "cc4ae799-5ae4-4a29-af5a-4efffceb351a",
   "metadata": {},
   "outputs": [],
   "source": [
    "#Create data generators\n",
    "train_dataset = tf.data.Dataset.from_tensor_slices(\n",
    "    (train_images, train_labels)).batch(batch_size).shuffle(buffer_size=1024).prefetch(\n",
    "    buffer_size=tf.data.experimental.AUTOTUNE)\n",
    "val_dataset = tf.data.Dataset.from_tensor_slices(\n",
    "    (val_images, val_labels)).batch(batch_size).prefetch(\n",
    "    buffer_size=tf.data.experimental.AUTOTUNE)\n",
    "test_dataset = tf.data.Dataset.from_tensor_slices( \n",
    "    (test_images, test_labels)).batch(batch_size).prefetch(\n",
    "    buffer_size=tf.data.experimental.AUTOTUNE)"
   ]
  },
  {
   "cell_type": "code",
   "execution_count": 19,
   "id": "917b4377-afdd-442e-a2b8-6ca265cb3420",
   "metadata": {},
   "outputs": [
    {
     "name": "stdout",
     "output_type": "stream",
     "text": [
      "\u001b[1m1500/1500\u001b[0m \u001b[32m━━━━━━━━━━━━━━━━━━━━\u001b[0m\u001b[37m\u001b[0m \u001b[1m12s\u001b[0m 7ms/step - accuracy: 0.8443 - loss: 0.4871 - val_accuracy: 0.9765 - val_loss: 0.0808\n"
     ]
    },
    {
     "data": {
      "text/plain": [
       "<keras.src.callbacks.history.History at 0x1b707534080>"
      ]
     },
     "execution_count": 19,
     "metadata": {},
     "output_type": "execute_result"
    }
   ],
   "source": [
    "#Train the model\n",
    "model.fit(\n",
    "    train_dataset,\n",
    "    epochs=num_epochs,\n",
    "    validation_data=val_dataset\n",
    ")"
   ]
  },
  {
   "cell_type": "code",
   "execution_count": 21,
   "id": "a940e30b-2e57-4f4e-8247-cb1ddbbcfdf0",
   "metadata": {},
   "outputs": [
    {
     "name": "stdout",
     "output_type": "stream",
     "text": [
      "\u001b[1m313/313\u001b[0m \u001b[32m━━━━━━━━━━━━━━━━━━━━\u001b[0m\u001b[37m\u001b[0m \u001b[1m1s\u001b[0m 2ms/step - accuracy: 0.9723 - loss: 0.0864\n",
      "Test accuracy: 0.9778000116348267\n"
     ]
    }
   ],
   "source": [
    "#Evaluate the model on the test set\n",
    "test_loss, test_accuracy=model.evaluate(test_dataset)\n",
    "print(\"Test accuracy:\", test_accuracy)"
   ]
  },
  {
   "cell_type": "code",
   "execution_count": 23,
   "id": "b658038e-3c82-41d4-ad3f-f05f6c65c20c",
   "metadata": {},
   "outputs": [
    {
     "name": "stdout",
     "output_type": "stream",
     "text": [
      "\u001b[1m1/1\u001b[0m \u001b[32m━━━━━━━━━━━━━━━━━━━━\u001b[0m\u001b[37m\u001b[0m \u001b[1m0s\u001b[0m 73ms/step\n",
      "Predicted label for the first test image: 7\n"
     ]
    }
   ],
   "source": [
    "#Predict labels for new images (example: first image from test set)\n",
    "new_image = test_images[0:1] #Take the first image from the test set\n",
    "predictions=model.predict(new_image)\n",
    "predicted_label = tf.argmax(predictions, axis=1)[0]\n",
    "print(\"Predicted label for the first test image:\", predicted_label.numpy())"
   ]
  }
 ],
 "metadata": {
  "kernelspec": {
   "display_name": "Python 3 (ipykernel)",
   "language": "python",
   "name": "python3"
  },
  "language_info": {
   "codemirror_mode": {
    "name": "ipython",
    "version": 3
   },
   "file_extension": ".py",
   "mimetype": "text/x-python",
   "name": "python",
   "nbconvert_exporter": "python",
   "pygments_lexer": "ipython3",
   "version": "3.12.4"
  }
 },
 "nbformat": 4,
 "nbformat_minor": 5
}
