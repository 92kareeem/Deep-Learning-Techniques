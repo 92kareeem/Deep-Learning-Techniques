{
 "cells": [
  {
   "cell_type": "code",
   "execution_count": 11,
   "id": "4aa67479-e5cd-448d-a73c-ca95525177b9",
   "metadata": {},
   "outputs": [
    {
     "name": "stdout",
     "output_type": "stream",
     "text": [
      "\n",
      " [[ 2  4  6]\n",
      " [ 8 10 12]]\n",
      "\n",
      " [[4 5 6]\n",
      " [7 8 9]]\n",
      " \n",
      " [[ 1  4  9]\n",
      " [16 25 36]]\n",
      "\n",
      " [[1 4]\n",
      " [2 5]\n",
      " [3 6]]\n"
     ]
    }
   ],
   "source": [
    "\n",
    "import numpy as np\n",
    "t = np.array([[1, 2, 3], [4, 5, 6]])\n",
    "t1 = t * 2 \n",
    "print(\"\\n\",t1)\n",
    "#Element-wise addition\n",
    "t2 = t + 3\n",
    "print(\"\\n\", t2)\n",
    "# Element-wise exponentiation \n",
    "t3 = np.power(t, 2)\n",
    "print(\" \\n\",t3)\n",
    "# Transpose\n",
    "t4 = np.transpose(t)\n",
    "print(\"\\n\",t4)"
   ]
  },
  {
   "cell_type": "code",
   "execution_count": null,
   "id": "1e81d96c-f07f-4711-9759-c4c727d17b4e",
   "metadata": {},
   "outputs": [],
   "source": []
  }
 ],
 "metadata": {
  "kernelspec": {
   "display_name": "Python 3 (ipykernel)",
   "language": "python",
   "name": "python3"
  },
  "language_info": {
   "codemirror_mode": {
    "name": "ipython",
    "version": 3
   },
   "file_extension": ".py",
   "mimetype": "text/x-python",
   "name": "python",
   "nbconvert_exporter": "python",
   "pygments_lexer": "ipython3",
   "version": "3.12.4"
  }
 },
 "nbformat": 4,
 "nbformat_minor": 5
}
